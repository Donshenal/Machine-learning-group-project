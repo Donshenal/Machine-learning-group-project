{
 "cells": [
  {
   "cell_type": "markdown",
   "id": "f35455b7",
   "metadata": {},
   "source": [
    "# DNN Assignment\n",
    "In this assignment you are working together with your teammates from the second project. You will apply your new knowledge about dense neural networks to the data from your ML project to investigate, if you can make further improvements on prediction performance. Your data is (hopefully) already cleaned and transformed (this was part of your ML project) such that you can focus fully on feeding it to your neural network. Use TensorFlow 2.x in this assignment as it makes training with real-life data much more easier with many implemented features (e.g. early-stopping, TensorBoard, regularization, etc.). \n",
    "\n",
    "In this notebook you will learn\n",
    "- how to apply a neural network to your own data using TensorFlow 2.x\n",
    "- how to tune the network and monitor learning\n",
    "- how to train several networks and ensemble them into a stronger model"
   ]
  },
  {
   "cell_type": "markdown",
   "id": "3f967c6d",
   "metadata": {},
   "source": [
    "# Module loading\n",
    "Load all the necessary packages for your assignment. We give you some modules in advance, feel free to add more, if you need them."
   ]
  },
  {
   "cell_type": "code",
   "execution_count": 8,
   "id": "6690ad07",
   "metadata": {},
   "outputs": [
    {
     "name": "stdout",
     "output_type": "stream",
     "text": [
      "2.13.0\n"
     ]
    }
   ],
   "source": [
    "import os\n",
    "\n",
    "import numpy as np\n",
    "import pandas as pd\n",
    "import matplotlib.pyplot as plt\n",
    "\n",
    "from sklearn.model_selection import train_test_split\n",
    "from sklearn.metrics import mean_squared_error\n",
    "from sklearn.preprocessing import StandardScaler, MinMaxScaler\n",
    "\n",
    "import warnings\n",
    "warnings.filterwarnings('ignore')\n",
    "\n",
    "import tensorflow as tf\n",
    "from tensorflow import keras\n",
    "\n",
    "from tensorflow.keras import layers\n",
    "from tensorflow.keras import regularizers\n",
    "\n",
    "\n",
    "import pathlib\n",
    "import shutil\n",
    "import tempfile\n",
    "\n",
    "print(tf.__version__)"
   ]
  },
  {
   "cell_type": "code",
   "execution_count": 2,
   "id": "28b25ae6",
   "metadata": {},
   "outputs": [],
   "source": [
    "!pip install -q git+https://github.com/tensorflow/docs\n",
    "    \n",
    "import tensorflow_docs as tfdocs\n",
    "import tensorflow_docs.modeling\n",
    "import tensorflow_docs.plots"
   ]
  },
  {
   "cell_type": "markdown",
   "id": "9a12ef62",
   "metadata": {},
   "source": [
    "## Data loading\n",
    "Load here your data from your ML project. You can use either `pandas` or `numpy` to format your data. "
   ]
  },
  {
   "cell_type": "code",
   "execution_count": 3,
   "id": "9eb56623",
   "metadata": {},
   "outputs": [],
   "source": [
    "# Load data\n",
    "final_data = pd.read_csv(\"../data/wrangled_data.csv\")"
   ]
  },
  {
   "cell_type": "code",
   "execution_count": 4,
   "id": "3ac78a52",
   "metadata": {},
   "outputs": [],
   "source": [
    "del final_data['date_caught']"
   ]
  },
  {
   "cell_type": "code",
   "execution_count": 5,
   "id": "45d65380",
   "metadata": {},
   "outputs": [],
   "source": [
    "from sklearn.model_selection import train_test_split"
   ]
  },
  {
   "cell_type": "code",
   "execution_count": 6,
   "id": "5df13c5d",
   "metadata": {},
   "outputs": [
    {
     "name": "stdout",
     "output_type": "stream",
     "text": [
      "X_train: (12643, 40)\n",
      "y_train: (12643,)\n",
      "X_test: (5419, 40)\n",
      "y_test: (5419,)\n"
     ]
    }
   ],
   "source": [
    "# Select X and y features\n",
    "X = final_data.drop(['capture_number'], axis = 1)\n",
    "y = final_data['capture_number']\n",
    "\n",
    "# Splitting the dataset\n",
    "X_train, X_test, y_train, y_test = train_test_split(X, y, test_size=0.3, random_state=42, shuffle=True, stratify=y)\n",
    "\n",
    "# Check the shape of the data sets\n",
    "print(\"X_train:\", X_train.shape)  \n",
    "print(\"y_train:\", y_train.shape)  \n",
    "print(\"X_test:\", X_test.shape) \n",
    "print(\"y_test:\", y_test.shape)  "
   ]
  },
  {
   "cell_type": "markdown",
   "id": "26098865",
   "metadata": {},
   "source": [
    "## Training\n",
    "For training you need a train/val split (hopefully you did a train/test split before (and you should use the same as in your ML project to make results comparable). "
   ]
  },
  {
   "cell_type": "code",
   "execution_count": null,
   "id": "467c0dc4",
   "metadata": {},
   "outputs": [],
   "source": [
    "#N_VAL = \n",
    "#N_TRAIN = \n",
    "#BATCH_SIZE = \n",
    "#STEPS_PER_EPOCH = N_TRAIN // BATCH_SIZE\n",
    "#EPOCHS = "
   ]
  },
  {
   "cell_type": "code",
   "execution_count": 9,
   "id": "184f6363",
   "metadata": {},
   "outputs": [],
   "source": [
    "model = keras.Sequential([\n",
    "        layers.Dense(64, activation='relu'),\n",
    "        layers.Dense(64, activation='relu'),\n",
    "        layers.Dense(1)\n",
    "    ])\n",
    "\n",
    "model.compile(loss='mae',\n",
    "                  metrics='mse',\n",
    "                  optimizer=tf.keras.optimizers.Adam(0.001))\n",
    "  "
   ]
  },
  {
   "cell_type": "code",
   "execution_count": 10,
   "id": "78a79f0e",
   "metadata": {},
   "outputs": [],
   "source": [
    "from sklearn.preprocessing import StandardScaler\n",
    "from tensorflow.keras.layers.experimental import preprocessing"
   ]
  },
  {
   "cell_type": "code",
   "execution_count": 14,
   "id": "9dd396a3",
   "metadata": {},
   "outputs": [
    {
     "data": {
      "text/plain": [
       "<bound method Model.summary of <keras.src.engine.sequential.Sequential object at 0x00000242DF586150>>"
      ]
     },
     "execution_count": 14,
     "metadata": {},
     "output_type": "execute_result"
    }
   ],
   "source": [
    "model.summary"
   ]
  },
  {
   "cell_type": "code",
   "execution_count": 15,
   "id": "d2638a7f",
   "metadata": {},
   "outputs": [
    {
     "name": "stdout",
     "output_type": "stream",
     "text": [
      "CPU times: total: 1min 27s\n",
      "Wall time: 1min 13s\n"
     ]
    }
   ],
   "source": [
    "%%time\n",
    "history = model.fit(\n",
    "    X_train*1., y_train,\n",
    "    validation_split=0.2,\n",
    "    verbose=0, epochs=100\n",
    "    )"
   ]
  },
  {
   "cell_type": "code",
   "execution_count": 16,
   "id": "3e15444c",
   "metadata": {},
   "outputs": [
    {
     "data": {
      "image/png": "[encoded data removed]",
      "text/plain": [
       "<Figure size 640x480 with 1 Axes>"
      ]
     },
     "metadata": {},
     "output_type": "display_data"
    }
   ],
   "source": [
    "# Plotting function for MSE\n",
    "def plot_metric(history):\n",
    "    plt.plot(history.history['mse'])\n",
    "    plt.plot(history.history['val_mse'])\n",
    "    plt.title('Model MSE')\n",
    "    plt.ylabel('MSE')\n",
    "    plt.xlabel('Epoch')\n",
    "    plt.legend(['train', 'validation'], loc='upper right')\n",
    "    plt.show()\n",
    "\n",
    "plot_metric(history)"
   ]
  },
  {
   "cell_type": "code",
   "execution_count": 17,
   "id": "047a28e1",
   "metadata": {},
   "outputs": [
    {
     "name": "stdout",
     "output_type": "stream",
     "text": [
      "170/170 [==============================] - 1s 2ms/step\n"
     ]
    }
   ],
   "source": [
    "# Make predictions on the test data\n",
    "y_pred = model.predict(X_test*1.)"
   ]
  },
  {
   "cell_type": "code",
   "execution_count": 18,
   "id": "01d99b0f",
   "metadata": {},
   "outputs": [],
   "source": [
    "from sklearn.metrics import mean_squared_error, make_scorer, r2_score"
   ]
  },
  {
   "cell_type": "code",
   "execution_count": 19,
   "id": "fc542793",
   "metadata": {},
   "outputs": [],
   "source": [
    "def evaluate_rmse(y_true, y_pred, ndigits=3):\n",
    "    \"\"\" Prints the RMSE (root mean squared error) of y_pred in relation to y_true\"\"\"\n",
    "    rmse = mean_squared_error(y_true, y_pred, squared=False )\n",
    "    print(\"Number of predictions: \", len(y_pred))\n",
    "    print(\"RMSE: \", round(rmse, ndigits))\n",
    "    return rmse"
   ]
  },
  {
   "cell_type": "code",
   "execution_count": 20,
   "id": "931f228d",
   "metadata": {},
   "outputs": [
    {
     "name": "stdout",
     "output_type": "stream",
     "text": [
      "Number of predictions:  5419\n",
      "RMSE:  3.967\n"
     ]
    }
   ],
   "source": [
    "# evaluate\n",
    "error = evaluate_rmse(y_test, y_pred)"
   ]
  },
  {
   "cell_type": "code",
   "execution_count": 21,
   "id": "9f442220",
   "metadata": {},
   "outputs": [
    {
     "data": {
      "text/plain": [
       "0.0009688583153029118"
      ]
     },
     "execution_count": 21,
     "metadata": {},
     "output_type": "execute_result"
    }
   ],
   "source": [
    "r2_score(y_test, y_pred)"
   ]
  },
  {
   "cell_type": "markdown",
   "id": "afda48b9",
   "metadata": {},
   "source": [
    "### Build, compile and fit your model\n",
    "To become fast at retraining your (different) models it is good practice to define a function that gets fed by a model, its name, an optimizer to use and the number of epochs you want the model to be trained. \n",
    "\n",
    "If your model trains for many epochs you will receive a lot of logging from TensorFlow. To reduce the logging noise you can use a callback (provided by the `tensorflow_docs` module we installed and imported for you) named `EpochDots()` that simply prints a `.` for each epoch and a full set of metrics after a number of epochs have been trained. \n",
    "\n",
    "If you want to produce logs for using TensorBoard you also need to include the `callbacks.TensorBoard()`."
   ]
  },
  {
   "cell_type": "code",
   "execution_count": 22,
   "id": "61238846",
   "metadata": {},
   "outputs": [
    {
     "data": {
      "image/png": "[encoded data removed]",
      "text/plain": [
       "<Figure size 640x480 with 1 Axes>"
      ]
     },
     "metadata": {},
     "output_type": "display_data"
    }
   ],
   "source": [
    "medium_model = tf.keras.Sequential([\n",
    "      tf.keras.layers.Dense(64, kernel_initializer='uniform', activation='relu'),\n",
    "      tf.keras.layers.Dense(64, kernel_initializer='uniform', activation='relu'),\n",
    "      tf.keras.layers.Dense(64, kernel_initializer='uniform', activation='relu'),\n",
    "      tf.keras.layers.Dense(1, kernel_initializer='uniform')\n",
    "    ])\n",
    "\n",
    "medium_model.compile(optimizer=tf.keras.optimizers.legacy.Adam(),\n",
    "                  loss='mae',\n",
    "                  metrics=['mse']) \n",
    "\n",
    "history2 = medium_model.fit(X_train*1.,\n",
    "                           y_train,\n",
    "                           validation_split=0.2,\n",
    "                           verbose=0, \n",
    "                           epochs=200,\n",
    "                           ) \n",
    "\n",
    "# Plotting function for MSE\n",
    "def plot_metric(history):\n",
    "    plt.plot(history.history['mse'])\n",
    "    plt.plot(history.history['val_mse'])\n",
    "    plt.title('Model MSE')\n",
    "    plt.ylabel('MSE')\n",
    "    plt.xlabel('Epoch')\n",
    "    plt.legend(['train', 'validation'], loc='upper right')\n",
    "    plt.show()\n",
    "\n",
    "plot_metric(history2)\n"
   ]
  },
  {
   "cell_type": "code",
   "execution_count": 23,
   "id": "065324aa",
   "metadata": {},
   "outputs": [
    {
     "name": "stdout",
     "output_type": "stream",
     "text": [
      "170/170 [==============================] - 1s 3ms/step\n"
     ]
    }
   ],
   "source": [
    "# Make predictions on the test data\n",
    "y_pred_2 = medium_model.predict(X_test*1.)"
   ]
  },
  {
   "cell_type": "code",
   "execution_count": 24,
   "id": "06c09870",
   "metadata": {},
   "outputs": [
    {
     "name": "stdout",
     "output_type": "stream",
     "text": [
      "Number of predictions:  5419\n",
      "RMSE:  4.015\n"
     ]
    }
   ],
   "source": [
    "# evaluate\n",
    "error = evaluate_rmse(y_test, y_pred_2)"
   ]
  },
  {
   "cell_type": "code",
   "execution_count": 25,
   "id": "e76bd250",
   "metadata": {},
   "outputs": [
    {
     "data": {
      "text/plain": [
       "-0.023175126881965102"
      ]
     },
     "execution_count": 25,
     "metadata": {},
     "output_type": "execute_result"
    }
   ],
   "source": [
    "r2_score(y_test, y_pred_2)"
   ]
  },
  {
   "cell_type": "code",
   "execution_count": null,
   "id": "ce0a2e45",
   "metadata": {},
   "outputs": [],
   "source": [
    "#def get_callbacks():\n",
    "\n",
    "# return [list of your callbacks]"
   ]
  },
  {
   "cell_type": "markdown",
   "id": "a5a790b9",
   "metadata": {},
   "source": [
    "With L2 and dropout regulization:"
   ]
  },
  {
   "cell_type": "code",
   "execution_count": 52,
   "id": "fc6410ec",
   "metadata": {},
   "outputs": [],
   "source": [
    "l2_dropout_model = tf.keras.Sequential([\n",
    "      tf.keras.layers.Dense(512,kernel_initializer = 'uniform', activation='relu', kernel_regularizer=regularizers.l2(0.01),\n",
    "                            ),\n",
    "      tf.keras.layers.Dropout(0.25),\n",
    "      tf.keras.layers.Dense(512,kernel_initializer = 'uniform', activation='relu', kernel_regularizer=regularizers.l2(0.01)),\n",
    "      tf.keras.layers.Dropout(0.25),\n",
    "      tf.keras.layers.Dense(512,kernel_initializer = 'uniform', activation='relu', kernel_regularizer=regularizers.l2(0.01)),\n",
    "      tf.keras.layers.Dropout(0.25),\n",
    "      tf.keras.layers.Dense(512,kernel_initializer = 'uniform', activation='relu', kernel_regularizer=regularizers.l2(0.01)),\n",
    "      tf.keras.layers.Dropout(0.25),\n",
    "      tf.keras.layers.Dense(1,kernel_initializer = 'uniform')\n",
    "    ])\n",
    "\n",
    "l2_dropout_model.compile(optimizer=tf.keras.optimizers.legacy.Adam(),\n",
    "                  loss='mae',\n",
    "                  metrics=['mse'])"
   ]
  },
  {
   "cell_type": "code",
   "execution_count": 53,
   "id": "d42574b4",
   "metadata": {},
   "outputs": [
    {
     "data": {
      "text/plain": [
       "<keras.src.callbacks.History at 0x237cc1416d0>"
      ]
     },
     "execution_count": 53,
     "metadata": {},
     "output_type": "execute_result"
    }
   ],
   "source": [
    "l2_dropout_model.fit(X_train*1.,\n",
    "                        y_train,\n",
    "                        validation_split=0.2,\n",
    "                        verbose=0,\n",
    "                        epochs=200)"
   ]
  },
  {
   "cell_type": "code",
   "execution_count": 55,
   "id": "6741dd97",
   "metadata": {},
   "outputs": [
    {
     "name": "stdout",
     "output_type": "stream",
     "text": [
      "170/170 [==============================] - 1s 7ms/step\n"
     ]
    }
   ],
   "source": [
    "# Make predictions on the test data\n",
    "y_pred_3 = l2_dropout_model.predict(X_test*1.)"
   ]
  },
  {
   "cell_type": "code",
   "execution_count": 56,
   "id": "12948ba9",
   "metadata": {},
   "outputs": [
    {
     "name": "stdout",
     "output_type": "stream",
     "text": [
      "Number of predictions:  5419\n",
      "RMSE:  4.195\n"
     ]
    }
   ],
   "source": [
    "# evaluate\n",
    "error = evaluate_rmse(y_test, y_pred_3)"
   ]
  },
  {
   "cell_type": "code",
   "execution_count": 57,
   "id": "541f7b22",
   "metadata": {},
   "outputs": [
    {
     "data": {
      "text/plain": [
       "-0.11733485799497134"
      ]
     },
     "execution_count": 57,
     "metadata": {},
     "output_type": "execute_result"
    }
   ],
   "source": [
    "r2_score(y_test, y_pred_3)"
   ]
  },
  {
   "cell_type": "code",
   "execution_count": null,
   "id": "b5c4adaf",
   "metadata": {},
   "outputs": [],
   "source": []
  },
  {
   "cell_type": "markdown",
   "id": "abfcdd8a",
   "metadata": {},
   "source": [
    "You can implement your callbacks in the `model.fit()` method below."
   ]
  },
  {
   "cell_type": "code",
   "execution_count": null,
   "id": "f042f336",
   "metadata": {},
   "outputs": [],
   "source": [
    "#def model_compile_and_fit(model, name, optimizer=None, max_epochs=30):\n",
    "    # Get optimizer\n",
    "    \n",
    "    # model.compile\n",
    "    \n",
    "    # model.fit\n",
    "    \n",
    "    # return results"
   ]
  },
  {
   "cell_type": "markdown",
   "id": "b436f486",
   "metadata": {},
   "source": [
    "#### Build your model\n",
    "You can build your model by using `tf.keras.Sequential()` that helps you to sequentially define your different layers from input to output. "
   ]
  },
  {
   "cell_type": "code",
   "execution_count": null,
   "id": "535bfd4b",
   "metadata": {},
   "outputs": [],
   "source": [
    "#your_model = tf.keras.Sequential([\n",
    "#    layers.Dense(),\n",
    "#    layers.Dense()\n",
    "#])    "
   ]
  },
  {
   "cell_type": "markdown",
   "id": "c31056e5",
   "metadata": {},
   "source": [
    "#### Train your model\n",
    "Train your model by using your `model_compile_and_fit()` function you defined above."
   ]
  },
  {
   "cell_type": "code",
   "execution_count": null,
   "id": "0df56c37",
   "metadata": {},
   "outputs": [],
   "source": [
    "#your_history = model_compile_and_fit(your_model, ....)"
   ]
  },
  {
   "cell_type": "markdown",
   "id": "74a0e282",
   "metadata": {},
   "source": [
    "#### Evaluate your model training\n",
    "TensorFlow offers now (this was more cumbersome before) a simple history plotter that you can use to plot training histories and see how the model performed on training and validation data set."
   ]
  },
  {
   "cell_type": "code",
   "execution_count": null,
   "id": "4554e3d4",
   "metadata": {},
   "outputs": [],
   "source": [
    "# history_plotter = tfdocs.plots.HistoryPlotter(metric = 'your_metric', smoothing_std=10)\n",
    "# history_plotter.plot(your_history)"
   ]
  },
  {
   "cell_type": "markdown",
   "id": "85938cce",
   "metadata": {},
   "source": [
    "## Model tuning\n",
    "You might have no luck with your first model (most surely you did not). In this section you will apply methods you know to tune your model's performance. An obvious way of course is to change your model's architecture (removing or adding layers or layer dimensions, changing activation functions). \n",
    "\n",
    "However, after this you might still be able to detect some overfitting and there are some more methods you can apply to improve your neural network. Some of them are regularization, learning rate decay, early stopping, or dropout. \n",
    "\n",
    "If you want to add regularization you can apply directly layer-wise L2- or L1-regularization by using a layer's `kernel_regularization` argument and an appropriate regularizer from the [`tensorflow.keras.regularizers`](https://www.tensorflow.org/api_docs/python/tf/keras/regularizers) module we imported for you.  \n",
    "\n",
    "__Optimizer schedules__<br>\n",
    "Quite often your optimizer does not run efficiently through the loss function surface. Remember that theory ensures a convergence of mini-batch SGD if and only if the learing rate decreases sufficiently fast. A way to apply this to your model training is to use a learning rate scheduler (learning rate decay) that reduces the learning rate over the number of update steps. The [`tf.keras.optimizers.schedules`](https://www.tensorflow.org/api_docs/python/tf/keras/optimizers/schedules) module offers you some approaches to do that. \n",
    "\n",
    "Note that to apply this to your `model_compile_and_fit()` function you defined above you need to implement the learning rate schedule either in there or with a helper function that your function calls inside. \n",
    "\n",
    "If you want to visualize different schedulers you can define them and call them on a range of values and plot them in a line plot. \n",
    "\n",
    "__Early stopping__<br>\n",
    "Earyl stopping is a procedure that enables you to stop your training earlier than defined by your `max_epochs` argument. It is used in practices to \n",
    "1. determine the optimal parameter vector by monitoring the validation error closely (if it rises again too much stuck with the best parameters found until then) and\n",
    "2. to save expensive resources (either in terms of monetary costs or ecological costs).\n",
    "\n",
    "To implement early stopping in TensorFlow the `tf.keras` module offers you a `callback` named [`tf.keras.callback.EarlyStopping()`](https://www.tensorflow.org/api_docs/python/tf/keras/callbacks/EarlyStopping) that monitors for you a certain metric (it makes sense here to use a validation metric) and to stop training after a certain number of epochs with no improvement or by defining a certain `min_delta` that defines a minimum value of improvement - if below the callback stops your training. \n",
    "\n",
    "You can add this callback simply to the callbacks defined in your `get_callbacks()` function you defined above.\n",
    "\n",
    "__Dropout__<br>\n",
    "Dropout was one of the important developments in regularization for neural networks. It was developed by Geoffrey Hinton and his team at Toronto University. \n",
    "\n",
    "Dropout can be applied to each layer in your network and is implemented in `tf.keras` by an own layer named `Dropout()` awaiting a dropout rate set by you. So to introduce dropout you have to rework your model design.  \n",
    "\n",
    "Make use of your knowledge and apply tuning techniques to improve your network. "
   ]
  },
  {
   "cell_type": "code",
   "execution_count": null,
   "id": "dc3acc24",
   "metadata": {},
   "outputs": [],
   "source": [
    "#===========#\n",
    "# YOUR CODE #\n",
    "#===========#"
   ]
  },
  {
   "cell_type": "markdown",
   "id": "25560d3a",
   "metadata": {},
   "source": [
    "## Model ensembling\n",
    "You have learned that models can be ensembled. What is possible in `scikit-learn` is also possible in TensorFlow, just a little different as it is relying on its computation graph. However, any model is callable like a `layer` by invoking it on either an `Input` or on the output of another layer. Furthermore, you can also stack outputs together.\n",
    "\n",
    "To produce an ensemble you can define a couple of models, than use their predictions as inputs for another model and produce a final output (using `keras.Model(input, output)`). But you can also start simple and use the mean predictions over all models and then compute the `argmax()` to assign them to a class in classification (via using `layers.average([model1_preds,model2_preds,...])`). You will be surprised how well this works. \n",
    "\n",
    "Now implement your own ensemble to improve your work even a little more and to have something more to polish up your ML project on `GitHub` ;) "
   ]
  },
  {
   "cell_type": "code",
   "execution_count": null,
   "id": "2cde4649",
   "metadata": {},
   "outputs": [],
   "source": [
    "#===========#\n",
    "# YOUR CODE #\n",
    "#===========#"
   ]
  }
 ],
 "metadata": {
  "kernelspec": {
   "display_name": "Python 3 (ipykernel)",
   "language": "python",
   "name": "python3"
  },
  "language_info": {
   "codemirror_mode": {
    "name": "ipython",
    "version": 3
   },
   "file_extension": ".py",
   "mimetype": "text/x-python",
   "name": "python",
   "nbconvert_exporter": "python",
   "pygments_lexer": "ipython3",
   "version": "3.11.3"
  }
 },
 "nbformat": 4,
 "nbformat_minor": 5
}
