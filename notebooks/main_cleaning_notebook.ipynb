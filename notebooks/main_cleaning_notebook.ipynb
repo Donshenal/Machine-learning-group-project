{
 "cells": [
  {
   "cell_type": "code",
   "execution_count": null,
   "metadata": {},
   "outputs": [],
   "source": [
    "import seaborn as sns\n",
    "\n",
    "import numpy as np\n",
    "import pandas as pd\n",
    "import warnings\n",
    "import matplotlib.pyplot as plt\n",
    "\n",
    "from sklearn.pipeline import Pipeline\n",
    "from sklearn.compose import ColumnTransformer\n",
    "from sklearn.preprocessing import OneHotEncoder, StandardScaler, LabelEncoder\n",
    "from sklearn.impute import SimpleImputer\n",
    "\n",
    "from sklearn import set_config\n",
    "set_config(transform_output=\"pandas\")\n",
    "\n",
    "# Set random seed \n",
    "RSEED = 42\n",
    "\n",
    "warnings.filterwarnings(\"ignore\")"
   ]
  },
  {
   "cell_type": "code",
   "execution_count": null,
   "metadata": {},
   "outputs": [],
   "source": [
    "# import the csv file\n",
    "df = pd.read_csv(\"../data/data.csv\")"
   ]
  },
  {
   "cell_type": "code",
   "execution_count": null,
   "metadata": {},
   "outputs": [],
   "source": [
    "df.head()"
   ]
  },
  {
   "cell_type": "code",
   "execution_count": null,
   "metadata": {},
   "outputs": [],
   "source": [
    "variable_def = pd.read_csv(\"../data/variable_definitions.csv\",encoding='latin-1')\n",
    "pd.set_option('display.max_colwidth', None)\n",
    "variable_def"
   ]
  },
  {
   "cell_type": "code",
   "execution_count": null,
   "metadata": {},
   "outputs": [],
   "source": [
    "df.info()"
   ]
  },
  {
   "cell_type": "code",
   "execution_count": null,
   "metadata": {},
   "outputs": [],
   "source": [
    "df.isnull().sum()"
   ]
  },
  {
   "cell_type": "code",
   "execution_count": null,
   "metadata": {},
   "outputs": [],
   "source": [
    "# no duplicates of the rescue IDs\n",
    "df.nunique()"
   ]
  },
  {
   "cell_type": "markdown",
   "metadata": {},
   "source": [
    "## First data Cleaning"
   ]
  },
  {
   "cell_type": "code",
   "execution_count": null,
   "metadata": {},
   "outputs": [],
   "source": [
    "#replace uppercase letters with lowercase in column names\n",
    "df.columns = df.columns.str.lower()\n",
    "\n",
    "#format column names\n",
    "df = df.rename({'date_timecaught':'date_caught', 'capturesite':'capture_site', 'foragingground':'foraging_ground',\n",
    "                'capturemethod':'capture_method', 'landingsite':'landing_site', 'turtlecharacteristics':'turtle_characteristics',\n",
    "                'releasesite':'release_site', 'date_timerelease':'date_released',},axis=1)\n"
   ]
  },
  {
   "cell_type": "code",
   "execution_count": null,
   "metadata": {},
   "outputs": [],
   "source": [
    "# Dropping not needed columns\n",
    "df.drop([\"rescue_id\", \"fisher\", \"researcher\", \"sex\",\"turtle_characteristics\", \"tag_1\", \"lost_tags\", \"t_number\"], axis=1, inplace=True)"
   ]
  },
  {
   "cell_type": "code",
   "execution_count": null,
   "metadata": {},
   "outputs": [],
   "source": [
    "#convert date column to datetime type\n",
    "import datetime\n",
    "df['date_caught'] = pd.to_datetime(df['date_caught'])\n",
    "df['date_released'] = pd.to_datetime(df['date_released'], errors='coerce')"
   ]
  },
  {
   "cell_type": "code",
   "execution_count": null,
   "metadata": {},
   "outputs": [],
   "source": [
    "# converting all entries into lower case to get rid of \"Creek\" and \"creek\"\n",
    "df[\"foraging_ground\"] = df[\"foraging_ground\"].apply(lambda x: x.lower())\n",
    "\n",
    "# change the types to 0 and 1, \"ocean\" = 1, \"creek\" = 0\n",
    "df[\"foraging_ground\"] = df[\"foraging_ground\"].apply(lambda x: 1 if x == \"ocean\" else 0)\n",
    "\n",
    "df['tag_2'].fillna(0, inplace=True) \n",
    "# Replacing string values in Tag_2 column (which represent a large turtle) with 1:\n",
    "df['tag_2'] = df['tag_2'].replace(to_replace='.*', value=1, regex=True)\n",
    "\n",
    "df['tag_2'].unique()\n",
    "df['tag_2'].value_counts()\n"
   ]
  },
  {
   "cell_type": "code",
   "execution_count": null,
   "metadata": {},
   "outputs": [],
   "source": [
    "#Impute NaN CCL_cm values, setting all of them as median\n",
    "ccl_cm_median = df['ccl_cm'].median()\n",
    "df['ccl_cm'].fillna(ccl_cm_median, inplace=True) \n",
    "df.isnull().sum()"
   ]
  },
  {
   "cell_type": "code",
   "execution_count": null,
   "metadata": {},
   "outputs": [],
   "source": [
    "# change to a bool to take up less memory\n",
    "df[\"foraging_ground\"].astype(bool)"
   ]
  },
  {
   "cell_type": "code",
   "execution_count": null,
   "metadata": {},
   "outputs": [],
   "source": [
    "df[\"capture_method\"] = df[\"capture_method\"].apply(lambda x: x.lower())"
   ]
  },
  {
   "cell_type": "code",
   "execution_count": null,
   "metadata": {},
   "outputs": [],
   "source": [
    "df[\"landing_site\"].unique()"
   ]
  },
  {
   "cell_type": "code",
   "execution_count": null,
   "metadata": {},
   "outputs": [],
   "source": [
    "# One-hot encode the 'features' data using pandas.get_dummies()\n",
    "categorical_features = [\"capture_method\", \"foraging_ground\", \"landing_site\", \"species\"]\n",
    "df = pd.get_dummies(df,columns = categorical_features)\n",
    "df.head()"
   ]
  },
  {
   "cell_type": "code",
   "execution_count": null,
   "metadata": {},
   "outputs": [],
   "source": [
    "#fill ccw_cm NaNs with mean\n",
    "ccw_mean = df['ccw_cm'].mean()\n",
    "df['ccw_cm'].fillna(ccw_mean, inplace=True)"
   ]
  },
  {
   "cell_type": "code",
   "execution_count": null,
   "metadata": {},
   "outputs": [],
   "source": [
    "#fill weight NaNs with mode (8.5)\n",
    "df['weight_kg'].fillna(8.5, inplace=True)"
   ]
  },
  {
   "cell_type": "code",
   "execution_count": null,
   "metadata": {},
   "outputs": [],
   "source": [
    "#convert status to category\n",
    "\n",
    "df['status'] = df['status'].astype('category')"
   ]
  },
  {
   "cell_type": "code",
   "execution_count": null,
   "metadata": {},
   "outputs": [],
   "source": [
    "# convert to category\n",
    "df['release_site'] = df['release_site'].astype('category')\n",
    "df[\"capture_site\"] = df[\"capture_site\"].astype(\"category\")\n",
    "#fill release_site NaNs with mode and convert to category\n",
    "df['release_site'].fillna(df['release_site'].mode()[0], inplace=True)"
   ]
  },
  {
   "cell_type": "code",
   "execution_count": null,
   "metadata": {},
   "outputs": [],
   "source": [
    "#convert status & release_site to numeric with label encoder\n",
    "df['status'] = LabelEncoder().fit_transform(df['status'])\n",
    "df['release_site'] = LabelEncoder().fit_transform(df['release_site'])"
   ]
  },
  {
   "cell_type": "code",
   "execution_count": null,
   "metadata": {},
   "outputs": [],
   "source": [
    "df.shape"
   ]
  },
  {
   "cell_type": "code",
   "execution_count": null,
   "metadata": {},
   "outputs": [],
   "source": [
    "# check on missing values, only left for date released\n",
    "df.isna().sum() "
   ]
  },
  {
   "cell_type": "code",
   "execution_count": null,
   "metadata": {},
   "outputs": [],
   "source": [
    "#fill weight NaNs with mode (8.5)\n",
    "df['date_released'].fillna(0, inplace=True)"
   ]
  },
  {
   "cell_type": "code",
   "execution_count": null,
   "metadata": {},
   "outputs": [],
   "source": [
    "# clean up column names\n",
    "df.columns = df.columns.str.replace(\"landing_site_LandingSite_CaptureSiteC\",\"cs_c\")\n",
    "df.columns = df.columns.str.replace(\"species_S\",\"s\")\n",
    "df.columns = df.columns.str.replace(\"capture_method\",\"cm\")"
   ]
  },
  {
   "cell_type": "code",
   "execution_count": null,
   "metadata": {},
   "outputs": [],
   "source": [
    "# export data to csv, index to True \n",
    "df.to_csv('../data/cleaned_data.csv', index=True)"
   ]
  }
 ],
 "metadata": {
  "kernelspec": {
   "display_name": "Python 3",
   "language": "python",
   "name": "python3"
  },
  "language_info": {
   "codemirror_mode": {
    "name": "ipython",
    "version": 3
   },
   "file_extension": ".py",
   "mimetype": "text/x-python",
   "name": "python",
   "nbconvert_exporter": "python",
   "pygments_lexer": "ipython3",
   "version": "3.11.3"
  },
  "orig_nbformat": 4
 },
 "nbformat": 4,
 "nbformat_minor": 2
}
