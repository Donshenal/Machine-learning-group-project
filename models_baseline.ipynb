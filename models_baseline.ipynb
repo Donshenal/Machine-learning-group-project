{
 "cells": [
  {
   "cell_type": "markdown",
   "metadata": {},
   "source": [
    "## Baseline Model Notebook\n",
    "\n",
    "Goals of this notebook:\n",
    "* Given y_true, y_pred, calculate the RMSE\n",
    "* Implement a basic evaluation function\n",
    "* Assuming we are given X_train, y_train, fit a basic model and evaluate it\n",
    "* Additionally, implement cross_validation scoring"
   ]
  },
  {
   "cell_type": "code",
   "execution_count": 1,
   "metadata": {},
   "outputs": [],
   "source": [
    "import seaborn as sns\n",
    "\n",
    "import numpy as np\n",
    "import pandas as pd\n",
    "import warnings\n",
    "import matplotlib.pyplot as plt\n",
    "import seaborn as sns\n",
    "\n",
    "\n",
    "from sklearn.pipeline import Pipeline\n",
    "from sklearn.compose import ColumnTransformer\n",
    "from sklearn.preprocessing import OneHotEncoder, StandardScaler\n",
    "from sklearn.impute import SimpleImputer\n",
    "\n",
    "from sklearn.model_selection import train_test_split\n",
    "from sklearn.model_selection import GridSearchCV\n",
    "from sklearn.model_selection import cross_val_predict\n",
    "from sklearn.metrics import accuracy_score, recall_score, precision_score\n",
    "from sklearn.metrics import confusion_matrix, classification_report, accuracy_score\n",
    "\n",
    "from sklearn.linear_model import LogisticRegression\n",
    "from sklearn.preprocessing import LabelEncoder\n",
    "\n",
    "from sklearn import set_config\n",
    "set_config(transform_output=\"pandas\")\n",
    "\n",
    "# Set random seed \n",
    "RSEED = 42\n",
    "\n",
    "warnings.filterwarnings(\"ignore\")\n",
    "\n"
   ]
  },
  {
   "cell_type": "code",
   "execution_count": 7,
   "metadata": {},
   "outputs": [],
   "source": [
    "final_data = pd.read_csv(\"data/wrangled_data.csv\")"
   ]
  },
  {
   "cell_type": "code",
   "execution_count": 8,
   "metadata": {},
   "outputs": [],
   "source": [
    "# TODO: Solving date formate issue with date_caught\n",
    "\n",
    "del final_data['date_caught']"
   ]
  },
  {
   "cell_type": "code",
   "execution_count": 9,
   "metadata": {},
   "outputs": [
    {
     "name": "stdout",
     "output_type": "stream",
     "text": [
      "<class 'pandas.core.frame.DataFrame'>\n",
      "RangeIndex: 18062 entries, 0 to 18061\n",
      "Data columns (total 41 columns):\n",
      " #   Column                                          Non-Null Count  Dtype  \n",
      "---  ------                                          --------------  -----  \n",
      " 0   Unnamed: 0.1                                    18062 non-null  int64  \n",
      " 1   Unnamed: 0                                      18062 non-null  int64  \n",
      " 2   capture_site                                    18062 non-null  int64  \n",
      " 3   tag_2                                           18062 non-null  int64  \n",
      " 4   ccl_cm                                          18062 non-null  float64\n",
      " 5   ccw_cm                                          18062 non-null  float64\n",
      " 6   weight_kg                                       18062 non-null  float64\n",
      " 7   status                                          18062 non-null  int64  \n",
      " 8   release_site                                    18062 non-null  int64  \n",
      " 9   capture_method_beached                          18062 non-null  bool   \n",
      " 10  capture_method_by hand                          18062 non-null  bool   \n",
      " 11  capture_method_collected floater                18062 non-null  bool   \n",
      " 12  capture_method_fish trap                        18062 non-null  bool   \n",
      " 13  capture_method_jarife                           18062 non-null  bool   \n",
      " 14  capture_method_longline                         18062 non-null  bool   \n",
      " 15  capture_method_net                              18062 non-null  bool   \n",
      " 16  capture_method_not_recorded                     18062 non-null  bool   \n",
      " 17  capture_method_speargun                         18062 non-null  bool   \n",
      " 18  capture_method_stranded                         18062 non-null  bool   \n",
      " 19  capture_method_uzio                             18062 non-null  bool   \n",
      " 20  foraging_ground_0                               18062 non-null  bool   \n",
      " 21  foraging_ground_1                               18062 non-null  bool   \n",
      " 22  landing_site_LandingSite_CaptureSiteCategory_0  18062 non-null  bool   \n",
      " 23  landing_site_LandingSite_CaptureSiteCategory_1  18062 non-null  bool   \n",
      " 24  landing_site_LandingSite_CaptureSiteCategory_2  18062 non-null  bool   \n",
      " 25  landing_site_LandingSite_CaptureSiteCategory_3  18062 non-null  bool   \n",
      " 26  landing_site_LandingSite_CaptureSiteCategory_4  18062 non-null  bool   \n",
      " 27  species_Species_0                               18062 non-null  bool   \n",
      " 28  species_Species_1                               18062 non-null  bool   \n",
      " 29  species_Species_2                               18062 non-null  bool   \n",
      " 30  species_Species_3                               18062 non-null  bool   \n",
      " 31  species_Species_4                               18062 non-null  bool   \n",
      " 32  species_Species_5                               18062 non-null  bool   \n",
      " 33  species_Species_6                               18062 non-null  bool   \n",
      " 34  species_Species_7                               18062 non-null  bool   \n",
      " 35  year                                            18062 non-null  int64  \n",
      " 36  week_of_year                                    18062 non-null  int64  \n",
      " 37  year_woy                                        18062 non-null  int64  \n",
      " 38  cs_category                                     18062 non-null  int64  \n",
      " 39  type                                            18062 non-null  int64  \n",
      " 40  capture_number                                  18062 non-null  int64  \n",
      "dtypes: bool(26), float64(3), int64(12)\n",
      "memory usage: 2.5 MB\n"
     ]
    }
   ],
   "source": [
    "final_data.info()"
   ]
  },
  {
   "cell_type": "code",
   "execution_count": null,
   "metadata": {},
   "outputs": [],
   "source": []
  },
  {
   "cell_type": "code",
   "execution_count": 10,
   "metadata": {},
   "outputs": [
    {
     "name": "stdout",
     "output_type": "stream",
     "text": [
      "X_train: (12643, 40)\n",
      "y_train: (12643,)\n",
      "X_test: (5419, 40)\n",
      "y_test: (5419,)\n"
     ]
    }
   ],
   "source": [
    "# Select X and y features\n",
    "X = final_data.drop(['capture_number'], axis = 1)\n",
    "y = final_data['capture_number']\n",
    "\n",
    "\n",
    "# Splitting the dataset\n",
    "X_train, X_test, y_train, y_test = train_test_split(X, y, test_size=0.3, random_state=42, shuffle=True, stratify=y)\n",
    "\n",
    "# Check the shape of the data sets\n",
    "print(\"X_train:\", X_train.shape)  \n",
    "print(\"y_train:\", y_train.shape)  \n",
    "print(\"X_test:\", X_test.shape) \n",
    "print(\"y_test:\", y_test.shape)  "
   ]
  },
  {
   "cell_type": "code",
   "execution_count": 11,
   "metadata": {},
   "outputs": [],
   "source": [
    "# Imports\n",
    "import numpy as np\n",
    "from sklearn.metrics import mean_squared_error, make_scorer\n",
    "from sklearn.model_selection import cross_val_score\n",
    "from sklearn.linear_model import LinearRegression\n"
   ]
  },
  {
   "cell_type": "code",
   "execution_count": 12,
   "metadata": {},
   "outputs": [],
   "source": [
    "# Implement a basic evaluation function\n",
    "def evaluate_rmse(y_true, y_pred, ndigits=3):\n",
    "    \"\"\" Prints the RMSE (root mean squared error) of y_pred in relation to y_true\"\"\"\n",
    "    rmse = mean_squared_error(y_true, y_pred, squared=False )\n",
    "    print(\"Number of predictions: \", len(y_pred))\n",
    "    print(\"RMSE: \", round(rmse, ndigits))\n",
    "    return rmse"
   ]
  },
  {
   "cell_type": "code",
   "execution_count": 13,
   "metadata": {},
   "outputs": [
    {
     "name": "stdout",
     "output_type": "stream",
     "text": [
      "Number of predictions:  4\n",
      "RMSE:  0.612\n"
     ]
    }
   ],
   "source": [
    "# Test the evaluation function\n",
    "y_true_testing = [3, -0.5, 2, 7]\n",
    "y_pred_testing = [2.5, 0.0, 2, 8]\n",
    "#np.sqrt(sum((np.array(y_true_testing)-np.array(y_pred_testing))**2)/len(y_true_testing))\n",
    "assert float(np.abs(evaluate_rmse(y_true_testing, y_pred_testing) - 0.612)) <= 0.001"
   ]
  },
  {
   "cell_type": "code",
   "execution_count": 14,
   "metadata": {},
   "outputs": [
    {
     "name": "stdout",
     "output_type": "stream",
     "text": [
      "Number of predictions:  5419\n",
      "RMSE:  3.657\n"
     ]
    }
   ],
   "source": [
    "# Assuming we are given X_train, y_train, fit a basic linear model and evaluate it\n",
    "# TODO: need X_test, y_test\n",
    "# initialize the model\n",
    "lin_reg = LinearRegression()\n",
    "\n",
    "# train model \n",
    "lin_reg.fit(X_train,y_train)\n",
    "\n",
    "# make predictions on X_test\n",
    "y_predicted = lin_reg.predict(X_test)\n",
    "\n",
    "# evaluate\n",
    "error = evaluate_rmse(y_test, y_predicted)\n"
   ]
  },
  {
   "cell_type": "code",
   "execution_count": 16,
   "metadata": {},
   "outputs": [
    {
     "name": "stdout",
     "output_type": "stream",
     "text": [
      "[CV] END ................................ score: (test=3.597) total time=   0.0s\n",
      "[CV] END ................................ score: (test=3.570) total time=   0.0s\n",
      "[CV] END ................................ score: (test=3.544) total time=   0.0s\n",
      "[CV] END ................................ score: (test=3.715) total time=   0.0s\n",
      "[CV] END ................................ score: (test=3.649) total time=   0.0s\n",
      "CV RMSE scores:  [3.59745626 3.57041746 3.54429514 3.7153757  3.648583  ]\n"
     ]
    }
   ],
   "source": [
    "# Additionally, implement cross_validation scoring\n",
    "\n",
    "scorer_rmse = make_scorer(mean_squared_error, squared=False)\n",
    "\n",
    "lr = LinearRegression()\n",
    "\n",
    "# TODO: increase cv to 5?\n",
    "print(\"CV RMSE scores: \", cross_val_score(lr, X_train, y_train, cv=5, scoring=scorer_rmse, verbose=5))\n"
   ]
  },
  {
   "cell_type": "markdown",
   "metadata": {},
   "source": [
    "Plotting could be done now\n",
    "\n",
    "Error analysis"
   ]
  }
 ],
 "metadata": {
  "kernelspec": {
   "display_name": ".venv",
   "language": "python",
   "name": "python3"
  },
  "language_info": {
   "codemirror_mode": {
    "name": "ipython",
    "version": 3
   },
   "file_extension": ".py",
   "mimetype": "text/x-python",
   "name": "python",
   "nbconvert_exporter": "python",
   "pygments_lexer": "ipython3",
   "version": "3.11.3"
  },
  "orig_nbformat": 4
 },
 "nbformat": 4,
 "nbformat_minor": 2
}
