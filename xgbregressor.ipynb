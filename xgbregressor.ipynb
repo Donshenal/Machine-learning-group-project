{
 "cells": [
  {
   "cell_type": "code",
   "execution_count": 5,
   "metadata": {},
   "outputs": [
    {
     "name": "stdout",
     "output_type": "stream",
     "text": [
      "Collecting xgboost\n",
      "  Obtaining dependency information for xgboost from https://files.pythonhosted.org/packages/75/dd/9afe0d9d0f61a5384c3932626a022e38c396a5d88e6f5345ad2f7b576747/xgboost-1.7.6-py3-none-win_amd64.whl.metadata\n",
      "  Downloading xgboost-1.7.6-py3-none-win_amd64.whl.metadata (1.9 kB)\n",
      "Requirement already satisfied: numpy in c:\\users\\david\\spiced\\gitclone\\turtles\\.venv\\lib\\site-packages (from xgboost) (1.24.3)\n",
      "Requirement already satisfied: scipy in c:\\users\\david\\spiced\\gitclone\\turtles\\.venv\\lib\\site-packages (from xgboost) (1.11.2)\n",
      "Downloading xgboost-1.7.6-py3-none-win_amd64.whl (70.9 MB)\n",
      "   ---------------------------------------- 0.0/70.9 MB ? eta -:--:--\n",
      "   ---------------------------------------- 0.3/70.9 MB 6.8 MB/s eta 0:00:11\n",
      "   ---------------------------------------- 0.4/70.9 MB 8.5 MB/s eta 0:00:09\n",
      "    --------------------------------------- 1.2/70.9 MB 8.5 MB/s eta 0:00:09\n",
      "   - -------------------------------------- 2.3/70.9 MB 11.9 MB/s eta 0:00:06\n",
      "   - -------------------------------------- 3.4/70.9 MB 14.6 MB/s eta 0:00:05\n",
      "   -- ------------------------------------- 4.7/70.9 MB 16.5 MB/s eta 0:00:05\n",
      "   --- ------------------------------------ 5.8/70.9 MB 17.6 MB/s eta 0:00:04\n",
      "   --- ------------------------------------ 6.7/70.9 MB 17.8 MB/s eta 0:00:04\n",
      "   ---- ----------------------------------- 7.9/70.9 MB 18.7 MB/s eta 0:00:04\n",
      "   ----- ---------------------------------- 9.1/70.9 MB 19.3 MB/s eta 0:00:04\n",
      "   ----- ---------------------------------- 10.1/70.9 MB 19.6 MB/s eta 0:00:04\n",
      "   ------ --------------------------------- 11.3/70.9 MB 24.2 MB/s eta 0:00:03\n",
      "   ------ --------------------------------- 12.3/70.9 MB 24.2 MB/s eta 0:00:03\n",
      "   ------- -------------------------------- 13.5/70.9 MB 24.2 MB/s eta 0:00:03\n",
      "   -------- ------------------------------- 14.6/70.9 MB 23.4 MB/s eta 0:00:03\n",
      "   -------- ------------------------------- 15.7/70.9 MB 23.4 MB/s eta 0:00:03\n",
      "   --------- ------------------------------ 16.9/70.9 MB 25.1 MB/s eta 0:00:03\n",
      "   ---------- ----------------------------- 17.8/70.9 MB 23.4 MB/s eta 0:00:03\n",
      "   ---------- ----------------------------- 19.0/70.9 MB 23.4 MB/s eta 0:00:03\n",
      "   ----------- ---------------------------- 20.1/70.9 MB 23.4 MB/s eta 0:00:03\n",
      "   ------------ --------------------------- 21.4/70.9 MB 24.2 MB/s eta 0:00:03\n",
      "   ------------ --------------------------- 22.5/70.9 MB 23.4 MB/s eta 0:00:03\n",
      "   ------------- -------------------------- 23.6/70.9 MB 24.2 MB/s eta 0:00:02\n",
      "   ------------- -------------------------- 24.6/70.9 MB 23.4 MB/s eta 0:00:02\n",
      "   -------------- ------------------------- 25.6/70.9 MB 23.4 MB/s eta 0:00:02\n",
      "   --------------- ------------------------ 26.7/70.9 MB 22.6 MB/s eta 0:00:02\n",
      "   --------------- ------------------------ 27.7/70.9 MB 23.4 MB/s eta 0:00:02\n",
      "   ---------------- ----------------------- 28.9/70.9 MB 23.4 MB/s eta 0:00:02\n",
      "   ---------------- ----------------------- 30.1/70.9 MB 23.4 MB/s eta 0:00:02\n",
      "   ----------------- ---------------------- 31.2/70.9 MB 24.2 MB/s eta 0:00:02\n",
      "   ------------------ --------------------- 32.3/70.9 MB 23.4 MB/s eta 0:00:02\n",
      "   ------------------ --------------------- 33.5/70.9 MB 23.4 MB/s eta 0:00:02\n",
      "   ------------------- -------------------- 34.5/70.9 MB 23.4 MB/s eta 0:00:02\n",
      "   -------------------- ------------------- 35.8/70.9 MB 24.2 MB/s eta 0:00:02\n",
      "   -------------------- ------------------- 36.9/70.9 MB 24.2 MB/s eta 0:00:02\n",
      "   --------------------- ------------------ 38.1/70.9 MB 24.2 MB/s eta 0:00:02\n",
      "   ---------------------- ----------------- 39.2/70.9 MB 24.2 MB/s eta 0:00:02\n",
      "   ---------------------- ----------------- 40.2/70.9 MB 24.2 MB/s eta 0:00:02\n",
      "   ----------------------- ---------------- 41.6/70.9 MB 24.2 MB/s eta 0:00:02\n",
      "   ----------------------- ---------------- 42.5/70.9 MB 24.3 MB/s eta 0:00:02\n",
      "   ------------------------ --------------- 43.9/70.9 MB 24.2 MB/s eta 0:00:02\n",
      "   ------------------------- -------------- 44.9/70.9 MB 24.2 MB/s eta 0:00:02\n",
      "   -------------------------- ------------- 46.2/70.9 MB 24.2 MB/s eta 0:00:02\n",
      "   -------------------------- ------------- 47.1/70.9 MB 24.2 MB/s eta 0:00:01\n",
      "   --------------------------- ------------ 48.3/70.9 MB 24.2 MB/s eta 0:00:01\n",
      "   --------------------------- ------------ 49.4/70.9 MB 24.2 MB/s eta 0:00:01\n",
      "   ---------------------------- ----------- 50.6/70.9 MB 24.2 MB/s eta 0:00:01\n",
      "   ----------------------------- ---------- 51.8/70.9 MB 24.3 MB/s eta 0:00:01\n",
      "   ----------------------------- ---------- 53.0/70.9 MB 25.2 MB/s eta 0:00:01\n",
      "   ------------------------------ --------- 54.2/70.9 MB 24.2 MB/s eta 0:00:01\n",
      "   ------------------------------- -------- 55.4/70.9 MB 25.2 MB/s eta 0:00:01\n",
      "   -------------------------------- ------- 56.9/70.9 MB 24.2 MB/s eta 0:00:01\n",
      "   -------------------------------- ------- 58.0/70.9 MB 25.2 MB/s eta 0:00:01\n",
      "   --------------------------------- ------ 59.3/70.9 MB 25.2 MB/s eta 0:00:01\n",
      "   ---------------------------------- ----- 60.3/70.9 MB 26.2 MB/s eta 0:00:01\n",
      "   ---------------------------------- ----- 61.6/70.9 MB 25.2 MB/s eta 0:00:01\n",
      "   ----------------------------------- ---- 62.6/70.9 MB 25.2 MB/s eta 0:00:01\n",
      "   ------------------------------------ --- 63.9/70.9 MB 25.2 MB/s eta 0:00:01\n",
      "   ------------------------------------ --- 64.7/70.9 MB 25.2 MB/s eta 0:00:01\n",
      "   ------------------------------------- -- 65.8/70.9 MB 25.2 MB/s eta 0:00:01\n",
      "   ------------------------------------- -- 66.9/70.9 MB 23.4 MB/s eta 0:00:01\n",
      "   -------------------------------------- - 68.1/70.9 MB 23.4 MB/s eta 0:00:01\n",
      "   -------------------------------------- - 69.1/70.9 MB 24.2 MB/s eta 0:00:01\n",
      "   ---------------------------------------  70.1/70.9 MB 22.6 MB/s eta 0:00:01\n",
      "   ---------------------------------------  70.9/70.9 MB 24.2 MB/s eta 0:00:01\n",
      "   ---------------------------------------  70.9/70.9 MB 24.2 MB/s eta 0:00:01\n",
      "   ---------------------------------------  70.9/70.9 MB 24.2 MB/s eta 0:00:01\n",
      "   ---------------------------------------  70.9/70.9 MB 24.2 MB/s eta 0:00:01\n",
      "   ---------------------------------------- 70.9/70.9 MB 16.0 MB/s eta 0:00:00\n",
      "Installing collected packages: xgboost\n",
      "Successfully installed xgboost-1.7.6\n"
     ]
    }
   ],
   "source": [
    "!pip install xgboost"
   ]
  },
  {
   "cell_type": "code",
   "execution_count": 74,
   "metadata": {},
   "outputs": [],
   "source": [
    "import pandas as pd\n",
    "import numpy as np\n",
    "import matplotlib.pyplot as plt\n",
    "import seaborn as sns\n",
    "\n",
    "from sklearn.model_selection import train_test_split\n",
    "from sklearn.linear_model import LinearRegression\n",
    "from sklearn.neighbors import KNeighborsClassifier\n",
    "from sklearn.tree import DecisionTreeClassifier\n",
    "from sklearn.ensemble import RandomForestClassifier\n",
    "from sklearn.metrics import get_scorer_names\n",
    "\n",
    "from xgboost import XGBRegressor\n",
    "from sklearn.metrics import mean_squared_error, make_scorer\n",
    "from sklearn.model_selection import cross_val_score\n",
    "\n",
    "import warnings\n",
    "import datetime\n",
    "warnings.filterwarnings(\"ignore\")\n",
    "\n",
    "RSEED = 42"
   ]
  },
  {
   "cell_type": "code",
   "execution_count": 25,
   "metadata": {},
   "outputs": [
    {
     "data": {
      "text/plain": [
       "Index(['Unnamed: 0.1', 'Unnamed: 0', 'date_caught', 'capture_site', 'tag_2',\n",
       "       'ccl_cm', 'ccw_cm', 'weight_kg', 'status', 'release_site', 'cm_beached',\n",
       "       'cm_by hand', 'cm_collected floater', 'cm_fish trap', 'cm_jarife',\n",
       "       'cm_longline', 'cm_net', 'cm_not_recorded', 'cm_speargun',\n",
       "       'cm_stranded', 'cm_uzio', 'foraging_ground_0', 'foraging_ground_1',\n",
       "       'cs_category_0', 'cs_category_1', 'cs_category_2', 'cs_category_3',\n",
       "       'cs_category_4', 'species_0', 'species_1', 'species_2', 'species_3',\n",
       "       'species_4', 'species_5', 'species_6', 'species_7', 'year',\n",
       "       'week_of_year', 'year_woy', 'cs_category', 'type', 'capture_number'],\n",
       "      dtype='object')"
      ]
     },
     "execution_count": 25,
     "metadata": {},
     "output_type": "execute_result"
    }
   ],
   "source": [
    "fdf = pd.read_csv('data/wrangled_data.csv')\n",
    "fdf.columns"
   ]
  },
  {
   "cell_type": "code",
   "execution_count": 26,
   "metadata": {},
   "outputs": [],
   "source": [
    "y =fdf['capture_number']\n",
    "X = fdf.drop(['capture_number','date_caught'],axis=1)\n",
    "\n",
    "X_train, X_test, y_train, y_test = train_test_split(X, y, test_size=0.3, random_state=RSEED,stratify=y)\n"
   ]
  },
  {
   "cell_type": "code",
   "execution_count": 27,
   "metadata": {},
   "outputs": [],
   "source": [
    "#encode y values (to avoid xgboost error)\n",
    "from sklearn.preprocessing import LabelEncoder\n",
    "le = LabelEncoder()\n",
    "y_train = le.fit_transform(y_train)"
   ]
  },
  {
   "cell_type": "code",
   "execution_count": 51,
   "metadata": {},
   "outputs": [
    {
     "name": "stdout",
     "output_type": "stream",
     "text": [
      "XGBRegressor(base_score=None, booster=None, callbacks=None,\n",
      "             colsample_bylevel=None, colsample_bynode=None,\n",
      "             colsample_bytree=None, early_stopping_rounds=None,\n",
      "             enable_categorical=False, eval_metric=None, feature_types=None,\n",
      "             gamma=None, gpu_id=None, grow_policy=None, importance_type=None,\n",
      "             interaction_constraints=None, learning_rate=None, max_bin=None,\n",
      "             max_cat_threshold=None, max_cat_to_onehot=None,\n",
      "             max_delta_step=None, max_depth=None, max_leaves=None,\n",
      "             min_child_weight=None, missing=nan, monotone_constraints=None,\n",
      "             n_estimators=100, n_jobs=None, num_parallel_tree=None,\n",
      "             predictor=None, random_state=None, ...)\n"
     ]
    }
   ],
   "source": [
    "# Fit model to training data\n",
    "model = XGBRegressor()\n",
    "model.fit(X_train, y_train)\n",
    "print(model)"
   ]
  },
  {
   "cell_type": "code",
   "execution_count": 29,
   "metadata": {},
   "outputs": [],
   "source": [
    "def evaluate_rmse(y_true, y_pred,ndigits=3):\n",
    "   rmse = mean_squared_error(y_true, y_pred, squared=False)\n",
    "   print(\"Number of predictions: \", len(y_pred))\n",
    "   print(\"RMSE: \", round(rmse,ndigits))\n",
    "   return rmse"
   ]
  },
  {
   "cell_type": "code",
   "execution_count": 52,
   "metadata": {},
   "outputs": [
    {
     "name": "stdout",
     "output_type": "stream",
     "text": [
      "Number of predictions:  5419\n",
      "RMSE:  2.098\n"
     ]
    },
    {
     "data": {
      "text/plain": [
       "2.0977951577194403"
      ]
     },
     "execution_count": 52,
     "metadata": {},
     "output_type": "execute_result"
    }
   ],
   "source": [
    "y_predict = model.predict(X_test)\n",
    "evaluate_rmse(y_test, y_predict)"
   ]
  },
  {
   "cell_type": "code",
   "execution_count": 62,
   "metadata": {},
   "outputs": [
    {
     "name": "stderr",
     "output_type": "stream",
     "text": [
      "[Parallel(n_jobs=-1)]: Using backend LokyBackend with 12 concurrent workers.\n"
     ]
    },
    {
     "name": "stdout",
     "output_type": "stream",
     "text": [
      "CV scores: [1.8845107  1.79361674 1.82645228 1.87646059 1.82223915]\n"
     ]
    },
    {
     "name": "stderr",
     "output_type": "stream",
     "text": [
      "[Parallel(n_jobs=-1)]: Done   2 out of   5 | elapsed:    2.2s remaining:    3.4s\n",
      "[Parallel(n_jobs=-1)]: Done   5 out of   5 | elapsed:    2.3s finished\n"
     ]
    }
   ],
   "source": [
    "scorer = make_scorer(mean_squared_error, squared=False)\n",
    "xgbr = XGBRegressor()\n",
    "print(\"CV scores:\", cross_val_score(xgbr, X_train, y_train, cv=5, scoring=scorer,verbose=5,n_jobs=-1))\n"
   ]
  },
  {
   "cell_type": "code",
   "execution_count": 90,
   "metadata": {},
   "outputs": [
    {
     "name": "stdout",
     "output_type": "stream",
     "text": [
      "Fitting 5 folds for each of 10 candidates, totalling 50 fits\n"
     ]
    },
    {
     "data": {
      "text/html": [
       "<style>#sk-container-id-8 {color: black;background-color: white;}#sk-container-id-8 pre{padding: 0;}#sk-container-id-8 div.sk-toggleable {background-color: white;}#sk-container-id-8 label.sk-toggleable__label {cursor: pointer;display: block;width: 100%;margin-bottom: 0;padding: 0.3em;box-sizing: border-box;text-align: center;}#sk-container-id-8 label.sk-toggleable__label-arrow:before {content: \"▸\";float: left;margin-right: 0.25em;color: #696969;}#sk-container-id-8 label.sk-toggleable__label-arrow:hover:before {color: black;}#sk-container-id-8 div.sk-estimator:hover label.sk-toggleable__label-arrow:before {color: black;}#sk-container-id-8 div.sk-toggleable__content {max-height: 0;max-width: 0;overflow: hidden;text-align: left;background-color: #f0f8ff;}#sk-container-id-8 div.sk-toggleable__content pre {margin: 0.2em;color: black;border-radius: 0.25em;background-color: #f0f8ff;}#sk-container-id-8 input.sk-toggleable__control:checked~div.sk-toggleable__content {max-height: 200px;max-width: 100%;overflow: auto;}#sk-container-id-8 input.sk-toggleable__control:checked~label.sk-toggleable__label-arrow:before {content: \"▾\";}#sk-container-id-8 div.sk-estimator input.sk-toggleable__control:checked~label.sk-toggleable__label {background-color: #d4ebff;}#sk-container-id-8 div.sk-label input.sk-toggleable__control:checked~label.sk-toggleable__label {background-color: #d4ebff;}#sk-container-id-8 input.sk-hidden--visually {border: 0;clip: rect(1px 1px 1px 1px);clip: rect(1px, 1px, 1px, 1px);height: 1px;margin: -1px;overflow: hidden;padding: 0;position: absolute;width: 1px;}#sk-container-id-8 div.sk-estimator {font-family: monospace;background-color: #f0f8ff;border: 1px dotted black;border-radius: 0.25em;box-sizing: border-box;margin-bottom: 0.5em;}#sk-container-id-8 div.sk-estimator:hover {background-color: #d4ebff;}#sk-container-id-8 div.sk-parallel-item::after {content: \"\";width: 100%;border-bottom: 1px solid gray;flex-grow: 1;}#sk-container-id-8 div.sk-label:hover label.sk-toggleable__label {background-color: #d4ebff;}#sk-container-id-8 div.sk-serial::before {content: \"\";position: absolute;border-left: 1px solid gray;box-sizing: border-box;top: 0;bottom: 0;left: 50%;z-index: 0;}#sk-container-id-8 div.sk-serial {display: flex;flex-direction: column;align-items: center;background-color: white;padding-right: 0.2em;padding-left: 0.2em;position: relative;}#sk-container-id-8 div.sk-item {position: relative;z-index: 1;}#sk-container-id-8 div.sk-parallel {display: flex;align-items: stretch;justify-content: center;background-color: white;position: relative;}#sk-container-id-8 div.sk-item::before, #sk-container-id-8 div.sk-parallel-item::before {content: \"\";position: absolute;border-left: 1px solid gray;box-sizing: border-box;top: 0;bottom: 0;left: 50%;z-index: -1;}#sk-container-id-8 div.sk-parallel-item {display: flex;flex-direction: column;z-index: 1;position: relative;background-color: white;}#sk-container-id-8 div.sk-parallel-item:first-child::after {align-self: flex-end;width: 50%;}#sk-container-id-8 div.sk-parallel-item:last-child::after {align-self: flex-start;width: 50%;}#sk-container-id-8 div.sk-parallel-item:only-child::after {width: 0;}#sk-container-id-8 div.sk-dashed-wrapped {border: 1px dashed gray;margin: 0 0.4em 0.5em 0.4em;box-sizing: border-box;padding-bottom: 0.4em;background-color: white;}#sk-container-id-8 div.sk-label label {font-family: monospace;font-weight: bold;display: inline-block;line-height: 1.2em;}#sk-container-id-8 div.sk-label-container {text-align: center;}#sk-container-id-8 div.sk-container {/* jupyter's `normalize.less` sets `[hidden] { display: none; }` but bootstrap.min.css set `[hidden] { display: none !important; }` so we also need the `!important` here to be able to override the default hidden behavior on the sphinx rendered scikit-learn.org. See: https://github.com/scikit-learn/scikit-learn/issues/21755 */display: inline-block !important;position: relative;}#sk-container-id-8 div.sk-text-repr-fallback {display: none;}</style><div id=\"sk-container-id-8\" class=\"sk-top-container\"><div class=\"sk-text-repr-fallback\"><pre>RandomizedSearchCV(cv=5,\n",
       "                   estimator=XGBRegressor(base_score=None, booster=None,\n",
       "                                          callbacks=None,\n",
       "                                          colsample_bylevel=None,\n",
       "                                          colsample_bynode=None,\n",
       "                                          colsample_bytree=None,\n",
       "                                          early_stopping_rounds=None,\n",
       "                                          enable_categorical=False,\n",
       "                                          eval_metric=None, feature_types=None,\n",
       "                                          gamma=None, gpu_id=None,\n",
       "                                          grow_policy=None,\n",
       "                                          importance_type=None,\n",
       "                                          interaction_constraints=None,\n",
       "                                          learning_rate=...\n",
       "                                          n_estimators=100, n_jobs=None,\n",
       "                                          num_parallel_tree=None,\n",
       "                                          predictor=None, random_state=42, ...),\n",
       "                   n_jobs=-1,\n",
       "                   param_distributions={&#x27;colsample_bytree&#x27;: [0.2, 0.3, 0.4, 0.5,\n",
       "                                                             0.6],\n",
       "                                        &#x27;gamma&#x27;: [0.0, 0.1, 0.2, 0.3, 0.4],\n",
       "                                        &#x27;learning_rate&#x27;: [0.05, 0.1, 0.15, 0.2,\n",
       "                                                          0.25],\n",
       "                                        &#x27;max_depth&#x27;: [3, 5, 7, 9, 10],\n",
       "                                        &#x27;min_child_weight&#x27;: [1, 3, 5, 7, 10]},\n",
       "                   random_state=42, scoring=&#x27;neg_root_mean_squared_error&#x27;,\n",
       "                   verbose=5)</pre><b>In a Jupyter environment, please rerun this cell to show the HTML representation or trust the notebook. <br />On GitHub, the HTML representation is unable to render, please try loading this page with nbviewer.org.</b></div><div class=\"sk-container\" hidden><div class=\"sk-item sk-dashed-wrapped\"><div class=\"sk-label-container\"><div class=\"sk-label sk-toggleable\"><input class=\"sk-toggleable__control sk-hidden--visually\" id=\"sk-estimator-id-22\" type=\"checkbox\" ><label for=\"sk-estimator-id-22\" class=\"sk-toggleable__label sk-toggleable__label-arrow\">RandomizedSearchCV</label><div class=\"sk-toggleable__content\"><pre>RandomizedSearchCV(cv=5,\n",
       "                   estimator=XGBRegressor(base_score=None, booster=None,\n",
       "                                          callbacks=None,\n",
       "                                          colsample_bylevel=None,\n",
       "                                          colsample_bynode=None,\n",
       "                                          colsample_bytree=None,\n",
       "                                          early_stopping_rounds=None,\n",
       "                                          enable_categorical=False,\n",
       "                                          eval_metric=None, feature_types=None,\n",
       "                                          gamma=None, gpu_id=None,\n",
       "                                          grow_policy=None,\n",
       "                                          importance_type=None,\n",
       "                                          interaction_constraints=None,\n",
       "                                          learning_rate=...\n",
       "                                          n_estimators=100, n_jobs=None,\n",
       "                                          num_parallel_tree=None,\n",
       "                                          predictor=None, random_state=42, ...),\n",
       "                   n_jobs=-1,\n",
       "                   param_distributions={&#x27;colsample_bytree&#x27;: [0.2, 0.3, 0.4, 0.5,\n",
       "                                                             0.6],\n",
       "                                        &#x27;gamma&#x27;: [0.0, 0.1, 0.2, 0.3, 0.4],\n",
       "                                        &#x27;learning_rate&#x27;: [0.05, 0.1, 0.15, 0.2,\n",
       "                                                          0.25],\n",
       "                                        &#x27;max_depth&#x27;: [3, 5, 7, 9, 10],\n",
       "                                        &#x27;min_child_weight&#x27;: [1, 3, 5, 7, 10]},\n",
       "                   random_state=42, scoring=&#x27;neg_root_mean_squared_error&#x27;,\n",
       "                   verbose=5)</pre></div></div></div><div class=\"sk-parallel\"><div class=\"sk-parallel-item\"><div class=\"sk-item\"><div class=\"sk-label-container\"><div class=\"sk-label sk-toggleable\"><input class=\"sk-toggleable__control sk-hidden--visually\" id=\"sk-estimator-id-23\" type=\"checkbox\" ><label for=\"sk-estimator-id-23\" class=\"sk-toggleable__label sk-toggleable__label-arrow\">estimator: XGBRegressor</label><div class=\"sk-toggleable__content\"><pre>XGBRegressor(base_score=None, booster=None, callbacks=None,\n",
       "             colsample_bylevel=None, colsample_bynode=None,\n",
       "             colsample_bytree=None, early_stopping_rounds=None,\n",
       "             enable_categorical=False, eval_metric=None, feature_types=None,\n",
       "             gamma=None, gpu_id=None, grow_policy=None, importance_type=None,\n",
       "             interaction_constraints=None, learning_rate=None, max_bin=None,\n",
       "             max_cat_threshold=None, max_cat_to_onehot=None,\n",
       "             max_delta_step=None, max_depth=None, max_leaves=None,\n",
       "             min_child_weight=None, missing=nan, monotone_constraints=None,\n",
       "             n_estimators=100, n_jobs=None, num_parallel_tree=None,\n",
       "             predictor=None, random_state=42, ...)</pre></div></div></div><div class=\"sk-serial\"><div class=\"sk-item\"><div class=\"sk-estimator sk-toggleable\"><input class=\"sk-toggleable__control sk-hidden--visually\" id=\"sk-estimator-id-24\" type=\"checkbox\" ><label for=\"sk-estimator-id-24\" class=\"sk-toggleable__label sk-toggleable__label-arrow\">XGBRegressor</label><div class=\"sk-toggleable__content\"><pre>XGBRegressor(base_score=None, booster=None, callbacks=None,\n",
       "             colsample_bylevel=None, colsample_bynode=None,\n",
       "             colsample_bytree=None, early_stopping_rounds=None,\n",
       "             enable_categorical=False, eval_metric=None, feature_types=None,\n",
       "             gamma=None, gpu_id=None, grow_policy=None, importance_type=None,\n",
       "             interaction_constraints=None, learning_rate=None, max_bin=None,\n",
       "             max_cat_threshold=None, max_cat_to_onehot=None,\n",
       "             max_delta_step=None, max_depth=None, max_leaves=None,\n",
       "             min_child_weight=None, missing=nan, monotone_constraints=None,\n",
       "             n_estimators=100, n_jobs=None, num_parallel_tree=None,\n",
       "             predictor=None, random_state=42, ...)</pre></div></div></div></div></div></div></div></div></div></div>"
      ],
      "text/plain": [
       "RandomizedSearchCV(cv=5,\n",
       "                   estimator=XGBRegressor(base_score=None, booster=None,\n",
       "                                          callbacks=None,\n",
       "                                          colsample_bylevel=None,\n",
       "                                          colsample_bynode=None,\n",
       "                                          colsample_bytree=None,\n",
       "                                          early_stopping_rounds=None,\n",
       "                                          enable_categorical=False,\n",
       "                                          eval_metric=None, feature_types=None,\n",
       "                                          gamma=None, gpu_id=None,\n",
       "                                          grow_policy=None,\n",
       "                                          importance_type=None,\n",
       "                                          interaction_constraints=None,\n",
       "                                          learning_rate=...\n",
       "                                          n_estimators=100, n_jobs=None,\n",
       "                                          num_parallel_tree=None,\n",
       "                                          predictor=None, random_state=42, ...),\n",
       "                   n_jobs=-1,\n",
       "                   param_distributions={'colsample_bytree': [0.2, 0.3, 0.4, 0.5,\n",
       "                                                             0.6],\n",
       "                                        'gamma': [0.0, 0.1, 0.2, 0.3, 0.4],\n",
       "                                        'learning_rate': [0.05, 0.1, 0.15, 0.2,\n",
       "                                                          0.25],\n",
       "                                        'max_depth': [3, 5, 7, 9, 10],\n",
       "                                        'min_child_weight': [1, 3, 5, 7, 10]},\n",
       "                   random_state=42, scoring='neg_root_mean_squared_error',\n",
       "                   verbose=5)"
      ]
     },
     "execution_count": 90,
     "metadata": {},
     "output_type": "execute_result"
    }
   ],
   "source": [
    "from sklearn.model_selection import RandomizedSearchCV\n",
    "\n",
    "param_grid = {\n",
    "    \"learning_rate\": [0.05, 0.10, 0.15, 0.20, 0.25],\n",
    "    'max_depth' : [3,5,7,9,10],\n",
    "    'gamma':[ 0.0, 0.1, 0.2, 0.3, 0.4],\n",
    "    'min_child_weight': [ 1, 3, 5, 7, 10],\n",
    "    'colsample_bytree':[ 0.2, 0.3, 0.4, 0.5, 0.6],\n",
    "}\n",
    "\n",
    "estimator = XGBRegressor(random_state=RSEED)\n",
    "\n",
    "random_search = RandomizedSearchCV(estimator, param_distributions=param_grid, n_iter=10, scoring= 'neg_root_mean_squared_error',\n",
    "                                   cv=5, verbose=5, random_state=RSEED, n_jobs=-1)\n",
    "\n",
    "random_search.fit(X_train, y_train)\n"
   ]
  },
  {
   "cell_type": "code",
   "execution_count": 91,
   "metadata": {},
   "outputs": [],
   "source": [
    "best_model = random_search.best_estimator_\n",
    "final_pred = best_model.predict(X_test)"
   ]
  },
  {
   "cell_type": "code",
   "execution_count": 92,
   "metadata": {},
   "outputs": [
    {
     "data": {
      "text/plain": [
       "['accuracy',\n",
       " 'adjusted_mutual_info_score',\n",
       " 'adjusted_rand_score',\n",
       " 'average_precision',\n",
       " 'balanced_accuracy',\n",
       " 'completeness_score',\n",
       " 'explained_variance',\n",
       " 'f1',\n",
       " 'f1_macro',\n",
       " 'f1_micro',\n",
       " 'f1_samples',\n",
       " 'f1_weighted',\n",
       " 'fowlkes_mallows_score',\n",
       " 'homogeneity_score',\n",
       " 'jaccard',\n",
       " 'jaccard_macro',\n",
       " 'jaccard_micro',\n",
       " 'jaccard_samples',\n",
       " 'jaccard_weighted',\n",
       " 'matthews_corrcoef',\n",
       " 'max_error',\n",
       " 'mutual_info_score',\n",
       " 'neg_brier_score',\n",
       " 'neg_log_loss',\n",
       " 'neg_mean_absolute_error',\n",
       " 'neg_mean_absolute_percentage_error',\n",
       " 'neg_mean_gamma_deviance',\n",
       " 'neg_mean_poisson_deviance',\n",
       " 'neg_mean_squared_error',\n",
       " 'neg_mean_squared_log_error',\n",
       " 'neg_median_absolute_error',\n",
       " 'neg_negative_likelihood_ratio',\n",
       " 'neg_root_mean_squared_error',\n",
       " 'normalized_mutual_info_score',\n",
       " 'positive_likelihood_ratio',\n",
       " 'precision',\n",
       " 'precision_macro',\n",
       " 'precision_micro',\n",
       " 'precision_samples',\n",
       " 'precision_weighted',\n",
       " 'r2',\n",
       " 'rand_score',\n",
       " 'recall',\n",
       " 'recall_macro',\n",
       " 'recall_micro',\n",
       " 'recall_samples',\n",
       " 'recall_weighted',\n",
       " 'roc_auc',\n",
       " 'roc_auc_ovo',\n",
       " 'roc_auc_ovo_weighted',\n",
       " 'roc_auc_ovr',\n",
       " 'roc_auc_ovr_weighted',\n",
       " 'top_k_accuracy',\n",
       " 'v_measure_score']"
      ]
     },
     "execution_count": 92,
     "metadata": {},
     "output_type": "execute_result"
    }
   ],
   "source": [
    "get_scorer_names()"
   ]
  },
  {
   "cell_type": "code",
   "execution_count": 94,
   "metadata": {},
   "outputs": [
    {
     "name": "stdout",
     "output_type": "stream",
     "text": [
      "Number of predictions:  5419\n",
      "RMSE:  1.905\n"
     ]
    },
    {
     "data": {
      "text/plain": [
       "1.9047024391034801"
      ]
     },
     "execution_count": 94,
     "metadata": {},
     "output_type": "execute_result"
    }
   ],
   "source": [
    "evaluate_rmse(final_pred,y_test)"
   ]
  },
  {
   "cell_type": "code",
   "execution_count": null,
   "metadata": {},
   "outputs": [],
   "source": []
  }
 ],
 "metadata": {
  "kernelspec": {
   "display_name": ".venv",
   "language": "python",
   "name": "python3"
  },
  "language_info": {
   "codemirror_mode": {
    "name": "ipython",
    "version": 3
   },
   "file_extension": ".py",
   "mimetype": "text/x-python",
   "name": "python",
   "nbconvert_exporter": "python",
   "pygments_lexer": "ipython3",
   "version": "3.11.4"
  },
  "orig_nbformat": 4
 },
 "nbformat": 4,
 "nbformat_minor": 2
}
